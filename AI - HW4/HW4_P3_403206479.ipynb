{
  "cells": [
    {
      "cell_type": "markdown",
      "metadata": {
        "id": "-ZGe14PfoYaQ"
      },
      "source": [
        "<br>\n",
        "<font>\n",
        "<div dir=ltr align=center>\n",
        "<img src=\"https://cdn.freebiesupply.com/logos/large/2x/sharif-logo-png-transparent.png\" width=150 height=150> <br>\n",
        "<font color=0F5298 size=7>\n",
        "Artificial Intelligence <br>\n",
        "<font color=2565AE size=5>\n",
        "Computer Engineering Department <br>\n",
        "FALL 2024<br>\n",
        "<font color=3C99D size=5>\n",
        "Practical Assignment 4 - Neural Networks <br>\n",
        "<font color=696880 size=4>\n",
        "Arash Ziyaei Razban - Mahan Bayhaghi\n",
        "\n",
        "____________"
      ]
    },
    {
      "cell_type": "markdown",
      "metadata": {
        "id": "HINUvR7XoYaS"
      },
      "source": [
        "# Personal Data\n",
        "Please fill in your details below to help us keep track of your submission."
      ]
    },
    {
      "cell_type": "markdown",
      "metadata": {
        "id": "2qln0URCoYaS"
      },
      "source": [
        "Student Name: `Emadeddin Rostamian`\n",
        "\n",
        "Student ID: `403206479`"
      ]
    },
    {
      "cell_type": "markdown",
      "metadata": {
        "id": "BTERA0-OoYaT"
      },
      "source": [
        "# Recurrent Neural Network (RNN)\n",
        "\n",
        "Nowadays machine learning algorithms and models are used to solve too many types of problems. One of the most important problems is sequence modeling. Sequence modeling is the ability of an algorithm to model, interpret, make predictions about, or generate sequence data like audio, text, etc.\n",
        "\n",
        "One of the most used algorithms to solve sequence modeling problems is the Recurrent Neural Network which is a specialized form of the classical Artificial Neural Network (Multi-Layer Perceptron). Below is a picture of this network architecture:\n",
        "\n",
        "<img src=\"/content/RNN.jpg\" width=\"400\" height=\"200\">\n",
        "\n",
        "In sequences there is a common feature, that each value has some dependency on its previous members. A simple example is arithmetic sequence: $a_i = i * d + a_0, 0 \\leq i$, where $a_n$ is dependent on $a_{n-1}$. So based on this nature of the sequences, there is a loop inside the RNN cell. This helps the RNN cell to remember some information about the previous activation values.\n",
        "\n",
        "In general, RNN is used to model sequences because of the following advantages:\n",
        "+ handles variable-length dependencies.\n",
        "+ Tracks dependencies.\n",
        "+ Maintains information about the order.\n",
        "+ Shares parameters across the sequence.\n"
      ]
    },
    {
      "cell_type": "markdown",
      "metadata": {
        "id": "1o5rSS3eoYaT"
      },
      "source": [
        "# What you are going to do in this notebook\n",
        "\n",
        "+ `Step1.` You have to design a simple neural network that has only 4 neurons, inspired by the RNNs architecture, and use it to predict the next number of an arithmetic sequence.\n",
        "\n",
        "+ `Step2.` You have to increase the number of the neurons to 8. Then you have create a complex dataset of arithmetic sequences, that in each with a number of `d` called $1 \\leq n$.\n",
        "\n",
        "+ `Step3.` In the previous sections, you will find out why just using the basic architecture of RNNs does not work for complex data. So, for this step, you have to implement a Gated Recurrent Unit (GRU) from scrach to train and test it over the MNIST dataset and compare it with PyTorch GRU."
      ]
    },
    {
      "cell_type": "markdown",
      "metadata": {
        "vscode": {
          "languageId": "plaintext"
        },
        "id": "Kzd2yq3ZoYaT"
      },
      "source": [
        "# START TO LEARN ABOUT RNNs (30 points)\n",
        "Step 1. First, we start with simple data, like arithmetic sequence: $a_i = i * d + a_0, 0 \\leq i$.\n",
        "\n",
        "You have to design a simple neural network (only 4 neurons) inspired from the RNNs to predict the next number in the sequence.\n",
        "\n",
        "`Note`: First, try to solve this problem theoretically (find the final values for your network's weights) and then implement it.\n",
        "\n",
        "`your answer:` $X = a_i, h_t = f(W_hh_{t-1} + W_xX_t + b_0), y = g(W_yh_t + b_y)$\n"
      ]
    },
    {
      "cell_type": "code",
      "execution_count": 10,
      "metadata": {
        "id": "MaVqXfbToYaU"
      },
      "outputs": [],
      "source": [
        "import torch\n",
        "import torch.nn as nn\n",
        "import torch.optim as optim\n",
        "from torch.utils.data import DataLoader, Dataset\n",
        "import torch.nn.functional as F\n",
        "import numpy as np\n",
        "from scipy.stats import binom\n",
        "import matplotlib.pyplot as plt\n",
        "import torchvision.transforms as transforms\n",
        "from torchvision.datasets import MNIST"
      ]
    },
    {
      "cell_type": "code",
      "execution_count": 31,
      "metadata": {
        "id": "YZcI-XzCoYaU"
      },
      "outputs": [],
      "source": [
        "# TODO\n",
        "def CustomDataset(max_length = 20, size = 10000):\n",
        "    \"\"\"\n",
        "        Generate your dataset with following details:\n",
        "        -100 <= a_i <= 100\n",
        "        -20 <= d <= 20\n",
        "        len(sequence) <= max_length\n",
        "\n",
        "        Parameters:\n",
        "            - max_length = 20\n",
        "            - size = 10000\n",
        "\n",
        "        Returns:\n",
        "            - dataset = [(length, sequence, next_number in the sequence) for each sequence]\n",
        "    \"\"\"\n",
        "    np.random.seed(42)\n",
        "    dataset = []\n",
        "    for _ in range(size):\n",
        "        # TODO\n",
        "        a0 = np.random.randint(-100, 101)\n",
        "        d = np.random.randint(-20, 21)\n",
        "        length = np.random.randint(1, max_length + 1)\n",
        "        sequence = [a0 + i * d for i in range(length)]\n",
        "        next_number = a0 + length * d\n",
        "        dataset.append((length, sequence, next_number))\n",
        "\n",
        "    return dataset"
      ]
    },
    {
      "cell_type": "markdown",
      "metadata": {
        "id": "9zHGLFb6oYaU"
      },
      "source": [
        "# Now create the model:\n",
        "Based on the this task design your model.\n",
        "+ Note that, your model should inspire from the behavior of RNNs.\n",
        "+ Solve this problem theoretically. Then you will find out you only need 4 neurons."
      ]
    },
    {
      "cell_type": "code",
      "execution_count": 47,
      "metadata": {
        "id": "QlQw-_OVoYaV"
      },
      "outputs": [],
      "source": [
        "# TODO\n",
        "class Model(nn.Module):\n",
        "    \"\"\"\n",
        "        Design your model.\n",
        "    \"\"\"\n",
        "    def __init__(self):\n",
        "        super(Model, self).__init__()\n",
        "        self.hidden_size = 2\n",
        "        self.hidden_state = None\n",
        "        self.input_to_hidden = nn.Linear(1, self.hidden_size)\n",
        "        self.hidden_to_hidden = nn.Linear(self.hidden_size, self.hidden_size)\n",
        "        self.hidden_to_output = nn.Linear(self.hidden_size, 1)\n",
        "        self.h_t = torch.zeros(1, self.hidden_size)\n",
        "    def forward(self, x):\n",
        "        self.h_t = torch.nn.functional.relu(self.input_to_hidden(x) + self.hidden_to_hidden(self.h_t))\n",
        "        output = self.hidden_to_output(self.h_t)\n",
        "        return output"
      ]
    },
    {
      "cell_type": "markdown",
      "metadata": {
        "id": "7M1D84P4oYaV"
      },
      "source": [
        "# Training Loop\n",
        "Now you have to train your model.\n",
        "\n",
        "Note, your architecture must be based on RNNs. This means that you have to set a hidden state called `h` and use it to create a loop for your model like RNNs."
      ]
    },
    {
      "cell_type": "code",
      "execution_count": 48,
      "metadata": {
        "id": "v5xnJTIIoYaV",
        "outputId": "17a3cca9-5a00-4681-f29f-8b40a35fcdb9",
        "colab": {
          "base_uri": "https://localhost:8080/"
        }
      },
      "outputs": [
        {
          "output_type": "stream",
          "name": "stdout",
          "text": [
            "Epoch 1/10, Loss: 575.6015\n",
            "Epoch 2/10, Loss: 31.1004\n",
            "Epoch 3/10, Loss: 24.0707\n",
            "Epoch 4/10, Loss: 23.9416\n",
            "Epoch 5/10, Loss: 23.8572\n",
            "Epoch 6/10, Loss: 23.8135\n",
            "Epoch 7/10, Loss: 23.7454\n",
            "Epoch 8/10, Loss: 23.7486\n",
            "Epoch 9/10, Loss: 23.7494\n",
            "Epoch 10/10, Loss: 23.7169\n"
          ]
        }
      ],
      "source": [
        "# create your dataset, using the CustomeDataset function\n",
        "dataset = CustomDataset()\n",
        "# Initialize model, loss function (use MSE Loss function), and optimizer (use adam optimizer)\n",
        "model = Model()\n",
        "criterion = nn.MSELoss()\n",
        "optimizer = optim.Adam(model.parameters(), lr=0.001)\n",
        "\n",
        "# TODO\n",
        "# Training loop\n",
        "epochs = 10\n",
        "\n",
        "for epoch in range(epochs):\n",
        "    model.train()\n",
        "    total_loss = 0\n",
        "\n",
        "    for length, x, y in dataset:\n",
        "        optimizer.zero_grad()\n",
        "        # set hidden state\n",
        "        model.h_t = torch.zeros(1, model.hidden_size)\n",
        "        # set x = sequences\n",
        "        x = torch.tensor(x, dtype=torch.float32)\n",
        "        x = x.view(-1, 1)\n",
        "        # set y = next numbers\n",
        "        y = torch.tensor(y, dtype=torch.float32)\n",
        "        y = y.view(1, -1)\n",
        "        # initialize your output\n",
        "        output = None\n",
        "        # create a loop: use hidden state\n",
        "        for i in range(length):\n",
        "          output = model(x[i])\n",
        "        # get loss\n",
        "        loss = criterion(output, y)\n",
        "        # backward pass\n",
        "        loss.backward()\n",
        "        # optimizer step\n",
        "        optimizer.step()\n",
        "        # compute total loss\n",
        "        total_loss += loss.item()\n",
        "\n",
        "    # print total loss after each epoch\n",
        "    print(f\"Epoch {epoch+1}/{epochs}, Loss: {total_loss / len(dataset):.4f}\")"
      ]
    },
    {
      "cell_type": "markdown",
      "metadata": {
        "id": "V_MgbCs0oYaV"
      },
      "source": [
        "# Weights Evaluation\n",
        "Print the weights of the model.\n",
        "\n",
        "You can see, model's weight are exactly same as what you have found in theoretical way."
      ]
    },
    {
      "cell_type": "code",
      "execution_count": 50,
      "metadata": {
        "id": "SuCuOiD5oYaV",
        "outputId": "73a9aeff-03d5-413e-a3ca-3125fc839af2",
        "colab": {
          "base_uri": "https://localhost:8080/"
        }
      },
      "outputs": [
        {
          "output_type": "stream",
          "name": "stdout",
          "text": [
            "Model's Weights:\n",
            "input_to_hidden.weight: tensor([[ 0.7605],\n",
            "        [-1.0149]])\n",
            "input_to_hidden.bias: tensor([1.8628, 3.7894])\n",
            "hidden_to_hidden.weight: tensor([[0.1494, 0.7048],\n",
            "        [1.2551, 0.1172]])\n",
            "hidden_to_hidden.bias: tensor([1.6129, 2.5342])\n",
            "hidden_to_output.weight: tensor([[ 1.2193, -0.9223]])\n",
            "hidden_to_output.bias: tensor([0.9053])\n"
          ]
        }
      ],
      "source": [
        "# TODO\n",
        "# print model's weights\n",
        "print(\"Model's Weights:\")\n",
        "for name, param in model.named_parameters():\n",
        "    if param.requires_grad:\n",
        "        print(f\"{name}: {param.data}\")\n"
      ]
    },
    {
      "cell_type": "markdown",
      "metadata": {
        "id": "FoT2xRSUoYaW"
      },
      "source": [
        "# Write your opinion\n",
        "How this model use hidden state? Why hidden state is helpful?\n",
        "\n",
        "`your answer:` The hidden state acts as a memory that captures the sequential dependencies between the inputs over time. The hidden state is updated at each time step based on the current input and the previous hidden state, allowing the model to retain information about past inputs. This is particularly helpful in sequence prediction tasks where the model needs to remember previous values to accurately predict the next one. The hidden state allows the model to model temporal patterns, making it capable of handling sequences and capturing dependencies over time."
      ]
    },
    {
      "cell_type": "markdown",
      "metadata": {
        "id": "A0welwSroYaW"
      },
      "source": [
        "# Analysis of long-term dependencies (40 points)\n",
        "Step 2. Now, we are going to do some analysis. In the previous, both the dataset and model were simple. Now, we want to make it a little complex.\n",
        "\n",
        "+ Assume the lengths for all sequences are equal.\n",
        "+ Consider each sequence has `n` number of `d`:\n",
        "    - e.g, $a_0, a_0 + d_0, a_1 + d_1, a_2 + d_2, ...., a_{n-1} + d_{n-1}, a_{n} + d_0, a_{n+1} + d_1, ...$\n",
        "+ Change your model: just increase the number of neurons to 8. Also, because your input's dimension has changed, you have to increase the hidden state `h` dimension.\n",
        "+ Create a loop over all possible $2 \\leq n \\leq 10$ and generate a dataset for each one. Then train a new model for each dataset.\n",
        "+ At the end, show a `TotalLoss - numberOfd` plot."
      ]
    },
    {
      "cell_type": "code",
      "execution_count": 52,
      "metadata": {
        "id": "SU-b1vjzoYaW"
      },
      "outputs": [],
      "source": [
        "# new model\n",
        "# TODO\n",
        "class Model(nn.Module):\n",
        "    \"\"\"\n",
        "        Design your model.\n",
        "    \"\"\"\n",
        "    def __init__(self):\n",
        "        super(Model, self).__init__()\n",
        "        self.hidden_size = 8\n",
        "        self.input_to_hidden = nn.Linear(1, self.hidden_size)\n",
        "        self.hidden_to_hidden = nn.Linear(self.hidden_size, self.hidden_size)\n",
        "        self.hidden_to_output = nn.Linear(self.hidden_size, 1)\n",
        "        self.h_t = torch.zeros(1, self.hidden_size)\n",
        "\n",
        "    def forward(self, x):\n",
        "        self.h_t = torch.nn.functional.relu(self.input_to_hidden(x) + self.hidden_to_hidden(self.h_t))\n",
        "        output = self.hidden_to_output(self.h_t)\n",
        "        return output"
      ]
    },
    {
      "cell_type": "code",
      "execution_count": 53,
      "metadata": {
        "id": "-fzb1M0BoYaW"
      },
      "outputs": [],
      "source": [
        "# TODO\n",
        "def CustomDataset(n, length = 20, size = 10000):\n",
        "    \"\"\"\n",
        "        Generate your dataset with following details:\n",
        "        -100 <= a_i <= 100\n",
        "        -20 <= d <= 20\n",
        "\n",
        "        Parameters:\n",
        "            - n: number of d in sequences\n",
        "            - length = 20 (length of all sequences)\n",
        "            - size = 10000\n",
        "\n",
        "        Returns:\n",
        "            - dataset = [(length, sequence, next_number in the sequence) for each sequence]\n",
        "    \"\"\"\n",
        "    dataset = []\n",
        "    for _ in range(size):\n",
        "        a_0 = np.random.randint(-100, 100)\n",
        "        d = [np.random.randint(-20, 20) for _ in range(n)]\n",
        "        sequence = [a_0]\n",
        "        for i in range(1, length):\n",
        "            step = d[i % n]\n",
        "            sequence.append(sequence[-1] + step)\n",
        "\n",
        "        next_number = sequence[-1] + d[0]\n",
        "        dataset.append((length, sequence, next_number))\n",
        "\n",
        "    return dataset"
      ]
    },
    {
      "cell_type": "code",
      "execution_count": 59,
      "metadata": {
        "id": "MF7aCPnloYaW",
        "outputId": "30eb9472-dd52-4b0e-9b5f-317ab6c77fdc",
        "colab": {
          "base_uri": "https://localhost:8080/"
        }
      },
      "outputs": [
        {
          "output_type": "stream",
          "name": "stdout",
          "text": [
            "d = 2\n",
            "\n",
            "Epoch [1/10], Loss: 476.3573745857203\n",
            "Epoch [2/10], Loss: 8.624741488103068\n",
            "Epoch [3/10], Loss: 5.832890249675133\n",
            "Epoch [4/10], Loss: 4.18378172390386\n",
            "Epoch [5/10], Loss: 3.35908796920014\n",
            "Epoch [6/10], Loss: 4.204329414248458\n",
            "Epoch [7/10], Loss: 2.505450108696392\n",
            "Epoch [8/10], Loss: 2.239080124522925\n",
            "Epoch [9/10], Loss: 2.0693180677202143\n",
            "Epoch [10/10], Loss: 2.1348177198184812\n",
            "d = 3\n",
            "\n",
            "Epoch [1/10], Loss: 1046.1717888498695\n",
            "Epoch [2/10], Loss: 3.8425800135429817\n",
            "Epoch [3/10], Loss: 1.9567705494050984\n",
            "Epoch [4/10], Loss: 1.533549107488796\n",
            "Epoch [5/10], Loss: 4.96228466035746\n",
            "Epoch [6/10], Loss: 1.061947283546523\n",
            "Epoch [7/10], Loss: 1.1987646323025163\n",
            "Epoch [8/10], Loss: 0.9805707555401543\n",
            "Epoch [9/10], Loss: 0.925604679268655\n",
            "Epoch [10/10], Loss: 1.2752399860027506\n",
            "d = 4\n",
            "\n",
            "Epoch [1/10], Loss: 478.9403853856806\n",
            "Epoch [2/10], Loss: 20.865441084192803\n",
            "Epoch [3/10], Loss: 7.485569084843323\n",
            "Epoch [4/10], Loss: 5.779163346198153\n",
            "Epoch [5/10], Loss: 4.1943302232562\n",
            "Epoch [6/10], Loss: 3.1800033539063315\n",
            "Epoch [7/10], Loss: 2.6361966685452103\n",
            "Epoch [8/10], Loss: 2.1624328724802586\n",
            "Epoch [9/10], Loss: 2.044964189890982\n",
            "Epoch [10/10], Loss: 1.7015428260489105\n",
            "d = 5\n",
            "\n",
            "Epoch [1/10], Loss: 320.3793760445621\n",
            "Epoch [2/10], Loss: 19.052216310598165\n",
            "Epoch [3/10], Loss: 12.02874230540653\n",
            "Epoch [4/10], Loss: 8.36928161279637\n",
            "Epoch [5/10], Loss: 4.856954418224096\n",
            "Epoch [6/10], Loss: 3.676525207422607\n",
            "Epoch [7/10], Loss: 3.260409971613444\n",
            "Epoch [8/10], Loss: 2.961046676959252\n",
            "Epoch [9/10], Loss: 2.649336883331238\n",
            "Epoch [10/10], Loss: 2.53519146200784\n",
            "d = 6\n",
            "\n",
            "Epoch [1/10], Loss: 175.9275679837782\n",
            "Epoch [2/10], Loss: 6.155045016971167\n",
            "Epoch [3/10], Loss: 2.91627005292103\n",
            "Epoch [4/10], Loss: 3.594398706614654\n",
            "Epoch [5/10], Loss: 2.3024387669325135\n",
            "Epoch [6/10], Loss: 2.1234575701631\n",
            "Epoch [7/10], Loss: 1.18409224835309\n",
            "Epoch [8/10], Loss: 1.4605773619816511\n",
            "Epoch [9/10], Loss: 1.3394488994451457\n",
            "Epoch [10/10], Loss: 1.0713218230206931\n",
            "d = 7\n",
            "\n",
            "Epoch [1/10], Loss: 1317.318029934337\n",
            "Epoch [2/10], Loss: 113.661947521095\n",
            "Epoch [3/10], Loss: 99.49720732227394\n",
            "Epoch [4/10], Loss: 83.71932309220128\n",
            "Epoch [5/10], Loss: 71.00358584003398\n",
            "Epoch [6/10], Loss: 40.0150629737242\n",
            "Epoch [7/10], Loss: 14.26124180646142\n",
            "Epoch [8/10], Loss: 9.73781506623126\n",
            "Epoch [9/10], Loss: 7.319142614092718\n",
            "Epoch [10/10], Loss: 6.719683976030986\n",
            "d = 8\n",
            "\n",
            "Epoch [1/10], Loss: 915.9091790101289\n",
            "Epoch [2/10], Loss: 75.59944240067753\n",
            "Epoch [3/10], Loss: 10.327427208267535\n",
            "Epoch [4/10], Loss: 1.9830712575185396\n",
            "Epoch [5/10], Loss: 1.1233746784922702\n",
            "Epoch [6/10], Loss: 0.7198669392905503\n",
            "Epoch [7/10], Loss: 0.7846444941416592\n",
            "Epoch [8/10], Loss: 0.8688589620876414\n",
            "Epoch [9/10], Loss: 0.7181038465572339\n",
            "Epoch [10/10], Loss: 0.6510776871204753\n",
            "d = 9\n",
            "\n",
            "Epoch [1/10], Loss: 224.3465818199954\n",
            "Epoch [2/10], Loss: 3.1902713850549693\n",
            "Epoch [3/10], Loss: 1.9795876404710324\n",
            "Epoch [4/10], Loss: 1.5011898427517212\n",
            "Epoch [5/10], Loss: 1.3394154859861769\n",
            "Epoch [6/10], Loss: 1.1382347209547432\n",
            "Epoch [7/10], Loss: 1.1485130954974403\n",
            "Epoch [8/10], Loss: 0.9089756130359681\n",
            "Epoch [9/10], Loss: 1.0092282683837355\n",
            "Epoch [10/10], Loss: 0.7736553059380026\n"
          ]
        }
      ],
      "source": [
        "# TODO\n",
        "losses = []\n",
        "epochs = 10\n",
        "\n",
        "for n in range(2, 10):\n",
        "    print(f'd = {n}\\n')\n",
        "    total_loss = 0\n",
        "    # create your dataset, using the CustomeDataset function\n",
        "    dataset = CustomDataset(n=n)\n",
        "\n",
        "    # Initialize model, loss function (user MSE Loss function), and optimizer (use adam optimizer)\n",
        "    model = Model()\n",
        "    criterion = nn.MSELoss()\n",
        "    optimizer = optim.Adam(model.parameters(), lr=0.001)\n",
        "\n",
        "    for epoch in range(epochs):\n",
        "        model.train()\n",
        "        epoch_loss = 0\n",
        "\n",
        "        for length, sequence, next_number in dataset:\n",
        "            optimizer.zero_grad()\n",
        "\n",
        "            sequence_tensor = torch.tensor(sequence, dtype=torch.float32).view(-1, 1)\n",
        "            next_number_tensor = torch.tensor([[next_number]], dtype=torch.float32)\n",
        "\n",
        "            model.h_t = torch.zeros(1, model.hidden_size)\n",
        "\n",
        "            output = None\n",
        "            for x in sequence_tensor:\n",
        "                output = model(x)\n",
        "\n",
        "            loss = criterion(output, next_number_tensor)\n",
        "            loss.backward()\n",
        "            optimizer.step()\n",
        "\n",
        "            epoch_loss += loss.item()\n",
        "\n",
        "        total_loss += epoch_loss / len(dataset)\n",
        "        print(f\"Epoch [{epoch+1}/{epochs}], Loss: {epoch_loss / len(dataset)}\")\n",
        "    losses.append(total_loss / epochs)"
      ]
    },
    {
      "cell_type": "code",
      "execution_count": 60,
      "metadata": {
        "id": "5beLWZgcoYaW",
        "outputId": "f58d9203-2735-421d-ac6b-4eab057a8178",
        "colab": {
          "base_uri": "https://localhost:8080/",
          "height": 472
        }
      },
      "outputs": [
        {
          "output_type": "display_data",
          "data": {
            "text/plain": [
              "<Figure size 640x480 with 1 Axes>"
            ],
            "image/png": "[encoded data removed]"
          },
          "metadata": {}
        }
      ],
      "source": [
        "# plot your amount of loss and number of d in datasets\n",
        "# TODO\n",
        "plt.plot(range(2, 10), losses, marker='o')\n",
        "plt.xlabel('Number of different d values (n)')\n",
        "plt.ylabel('Total Loss')\n",
        "plt.title('Total Loss vs. Number of d Values')\n",
        "plt.show()"
      ]
    },
    {
      "cell_type": "markdown",
      "metadata": {
        "id": "Od9zFmovoYaX"
      },
      "source": [
        "# Write your opinion\n",
        "\n",
        "+ You can see, as the number of d in the sequences increases the amount of the total loss increases too. Why?\n",
        "    - `your answer:` As the number of d in the sequences increases, the sequence becomes more complex because the model needs to learn and retain multiple dependencies simultaneously. This complexity makes it harder for the RNN to capture all the variations and relationships effectively, leading to a higher total loss. Additionally, longer dependencies between elements increase the likelihood of gradient issues during backpropagation.\n",
        "\n",
        "+ Can you mathematically explain your opinion? (help: There are some gradient issues!)\n",
        "    - `your answer:`In RNNs, the gradient of the loss with respect to earlier timesteps is computed by repeated application of the chain rule:  \n",
        "$$\\frac{\\partial \\mathcal{L}}{\\partial \\theta} = \\sum_{t=1}^{T} \\frac{\\partial \\mathcal{L}}{\\partial h_t} \\prod_{k=t}^{T} \\frac{\\partial h_k}{\\partial h_{k-1}} \\frac{\\partial h_{k-1}}{\\partial \\theta}, $$\n",
        "\n",
        "\n",
        "When $ T $ (the sequence length) increases:  \n",
        "1. **Vanishing Gradient**: The term $ \\prod_{k=t}^{T} \\frac{\\partial h_k}{\\partial h_{k-1}} $ can become very small if the recurrent weight matrix has eigenvalues $ < 1 $. This leads to gradients approaching zero, preventing effective learning.  \n",
        "2. **Exploding Gradient**: If the recurrent weight matrix has eigenvalues $ > 1 $, the product grows exponentially, causing gradients to explode, destabilizing the training process.\n",
        "\n",
        "In sequences with multiple $ d $, the repeated updates intensify these gradient problems, particularly for longer-term dependencies.\n",
        "\n",
        "+ Can you explain the problem of Long-term dependencies in RNNs?\n",
        "    - `your answer:` RNNs struggle with long-term dependencies because they rely on a single hidden state to encode all past information, which becomes insufficient for longer sequences. Additionally, gradients can vanish or explode during backpropagation, making it hard to retain information from earlier timesteps. This results in a bias toward recent inputs, causing the model to forget or undervalue earlier parts of the sequence."
      ]
    },
    {
      "cell_type": "markdown",
      "metadata": {
        "id": "yyITLe5IoYaX"
      },
      "source": [
        "# Gated Recurrent Units (GRUs) (30 points)\n",
        "\n",
        "Step3. In the previous section, you saw, simple recurrent models cannot remember information from the past. This is a big problem because in real-world applications sequences have a lot of dependencies on their past time steps and we have to find a way to remember the information from the past. To address this problem, researchers have designed other architecture that can selectively remember or forget information over time. Like: `Long-Short Term Memory (LSTM)` and `Gated Recurrent Unit (GRU)`. The key building block behind these architectures is `gate`.\n",
        "\n",
        "#### GATE:\n",
        "These networks, use gates to track information throughout many time steps:\n",
        "+ Add information, when the information is needed.\n",
        "+ Remover information, When information is not important\n",
        "\n",
        "<img src=\"GATE.jpg\" width=\"400\" height=\"200\">\n",
        "\n",
        "#### Long-Short Term Memory:\n",
        "LSTM is an improved version of RNNs. In a classical recurrent model, there is a single hidden state `h` which is used to help the model to remember some information over time. But this is not enough to learn long-term dependencies. Using gates, LSTM is capable of addressing the problem of long-term dependencies.\n",
        "\n",
        "LSTM cell:\n",
        "\n",
        "<img src=\"LSTM.jpg\" width=\"400\" height=\"200\">\n",
        "\n",
        "GATES:\n",
        "+ <font color=green size=3> Forget gate:</font> To forget irrelevant information.\n",
        "+ <font color=red size=3> Store gate:</font> Decide what part of new is relevant.\n",
        "+ <font color=orange size=3> Update:</font> update cell state values.\n",
        "+ <font color=blue size=3> Output gate:</font> Controls what information is sent to the next time step.\n",
        "\n",
        "This architecture addresses the gradient issues you have described in the previous section. (How?)\n",
        "\n",
        "`write your answer`"
      ]
    },
    {
      "cell_type": "markdown",
      "metadata": {
        "id": "BcLPSttVoYaX"
      },
      "source": [
        "#### Gated Recurrent Unit (GRU):\n",
        "Like LSTM, GRU is designed to model sequential data by allowing information to be selectively remembered or forgotten over time.\n",
        "\n",
        "GRU cell:\n",
        "\n",
        "<img src=\"GRU.jpg\" width=\"400\" height=\"200\">"
      ]
    },
    {
      "cell_type": "markdown",
      "metadata": {
        "id": "Tr9v_BbwoYaX"
      },
      "source": [
        "GATES and other parts:\n",
        "+ <font color=green size=3> Reset gate:</font> How much of previous hidden state to forget.\n",
        "    - $r_t = \\sigma(W_r \\cdot [h_{t-1}, x_t])$\n",
        "+ <font color=orange size=3> Update gate:</font> How much of the candidate activation vector to incorporate into the new hidden state.\n",
        "    - $z_t = \\sigma(W_z \\cdot [h_{t-1}, x_t])$\n",
        "    \n",
        "+ <font color=red size=3> Candidate Activation vector:</font> Computed using the current input x and modified version of the previous hidden state that is `reset` by the reset gate.\n",
        "    - $\\tilde{h}_t = \\tanh(W_h \\cdot [r_t \\odot h_{t-1}, x_t])$\n",
        "\n",
        "+ <font color=blue size=3> Hidden state</font>\n",
        "    - $h_t = (1 - z_t) \\odot h_{t-1} + z_t \\odot \\tilde{h}_t$\n",
        "\n",
        "Note: the $W_r$, $W_z$, $W_h$ are the weights associated with the GRU cell."
      ]
    },
    {
      "cell_type": "markdown",
      "metadata": {
        "id": "wpx7A6_7oYaY"
      },
      "source": [
        "# GRU Implementation\n",
        "Now, implement a Gated Recurrent Unit from scratch."
      ]
    },
    {
      "cell_type": "code",
      "execution_count": 11,
      "metadata": {
        "id": "B2jiunqnoYaY"
      },
      "outputs": [],
      "source": [
        "class GRU_cell(nn.Module):\n",
        "    def __init__(self, input_dim, hidden_dim, num_calsses):\n",
        "        super().__init__()\n",
        "        self.input_dim = input_dim\n",
        "        self.hidden_dim = hidden_dim\n",
        "        self.num_classes = num_calsses\n",
        "\n",
        "        self.reset_gate = nn.Linear(self.input_dim + self.hidden_dim, self.hidden_dim)\n",
        "        self.update_gate = nn.Linear(self.input_dim + self.hidden_dim, self.hidden_dim)\n",
        "        self.candidate = nn.Linear(self.input_dim + self.hidden_dim, self.hidden_dim)\n",
        "\n",
        "        self.output = nn.Linear(self.hidden_dim, self.num_classes)\n",
        "\n",
        "        # TODO\n",
        "        # define activation functions\n",
        "        self.sigmoid = nn.Sigmoid()\n",
        "        self.tanh = nn.Tanh()\n",
        "    def forward(self, x, h, end = False):\n",
        "        # TODO\n",
        "        # (reset gate, update gate, candidate vector, hidden state, output)\n",
        "        # feel free to change the input parameter\n",
        "        combined = torch.cat((x, h), dim=1)\n",
        "        r = self.sigmoid(self.reset_gate(combined))\n",
        "        z = self.sigmoid(self.update_gate(combined))\n",
        "        combined_reset = torch.cat((x, r * h), dim=1)\n",
        "        h_candidate = self.tanh(self.candidate(combined_reset))\n",
        "        h_next = (1 - z) * h + z * h_candidate\n",
        "        if end:\n",
        "            output = self.output(h_next)\n",
        "            return h_next, output\n",
        "        return h_next"
      ]
    },
    {
      "cell_type": "markdown",
      "metadata": {
        "id": "6G3swq3ooYaY"
      },
      "source": [
        "# MNIST\n",
        "MNIST database is a collection of handwritten digits. You are going to use this database to train and test your GRU cell.\n",
        "\n",
        "First, to download this database run the cell below."
      ]
    },
    {
      "cell_type": "code",
      "execution_count": 12,
      "metadata": {
        "id": "_GTsPP4aoYaY",
        "colab": {
          "base_uri": "https://localhost:8080/"
        },
        "outputId": "7e874ad7-bf7f-4456-fd0f-704c0b8eea1f"
      },
      "outputs": [
        {
          "output_type": "stream",
          "name": "stdout",
          "text": [
            "Downloading http://yann.lecun.com/exdb/mnist/train-images-idx3-ubyte.gz\n",
            "Failed to download (trying next):\n",
            "HTTP Error 403: Forbidden\n",
            "\n",
            "Downloading https://ossci-datasets.s3.amazonaws.com/mnist/train-images-idx3-ubyte.gz\n",
            "Downloading https://ossci-datasets.s3.amazonaws.com/mnist/train-images-idx3-ubyte.gz to data/MNIST/raw/train-images-idx3-ubyte.gz\n"
          ]
        },
        {
          "output_type": "stream",
          "name": "stderr",
          "text": [
            "100%|██████████| 9.91M/9.91M [00:00<00:00, 18.2MB/s]\n"
          ]
        },
        {
          "output_type": "stream",
          "name": "stdout",
          "text": [
            "Extracting data/MNIST/raw/train-images-idx3-ubyte.gz to data/MNIST/raw\n",
            "\n",
            "Downloading http://yann.lecun.com/exdb/mnist/train-labels-idx1-ubyte.gz\n",
            "Failed to download (trying next):\n",
            "HTTP Error 403: Forbidden\n",
            "\n",
            "Downloading https://ossci-datasets.s3.amazonaws.com/mnist/train-labels-idx1-ubyte.gz\n",
            "Downloading https://ossci-datasets.s3.amazonaws.com/mnist/train-labels-idx1-ubyte.gz to data/MNIST/raw/train-labels-idx1-ubyte.gz\n"
          ]
        },
        {
          "output_type": "stream",
          "name": "stderr",
          "text": [
            "100%|██████████| 28.9k/28.9k [00:00<00:00, 497kB/s]\n"
          ]
        },
        {
          "output_type": "stream",
          "name": "stdout",
          "text": [
            "Extracting data/MNIST/raw/train-labels-idx1-ubyte.gz to data/MNIST/raw\n",
            "\n",
            "Downloading http://yann.lecun.com/exdb/mnist/t10k-images-idx3-ubyte.gz\n",
            "Failed to download (trying next):\n",
            "HTTP Error 403: Forbidden\n",
            "\n",
            "Downloading https://ossci-datasets.s3.amazonaws.com/mnist/t10k-images-idx3-ubyte.gz\n",
            "Downloading https://ossci-datasets.s3.amazonaws.com/mnist/t10k-images-idx3-ubyte.gz to data/MNIST/raw/t10k-images-idx3-ubyte.gz\n"
          ]
        },
        {
          "output_type": "stream",
          "name": "stderr",
          "text": [
            "100%|██████████| 1.65M/1.65M [00:00<00:00, 4.60MB/s]\n"
          ]
        },
        {
          "output_type": "stream",
          "name": "stdout",
          "text": [
            "Extracting data/MNIST/raw/t10k-images-idx3-ubyte.gz to data/MNIST/raw\n",
            "\n",
            "Downloading http://yann.lecun.com/exdb/mnist/t10k-labels-idx1-ubyte.gz\n",
            "Failed to download (trying next):\n",
            "HTTP Error 403: Forbidden\n",
            "\n",
            "Downloading https://ossci-datasets.s3.amazonaws.com/mnist/t10k-labels-idx1-ubyte.gz\n",
            "Downloading https://ossci-datasets.s3.amazonaws.com/mnist/t10k-labels-idx1-ubyte.gz to data/MNIST/raw/t10k-labels-idx1-ubyte.gz\n"
          ]
        },
        {
          "output_type": "stream",
          "name": "stderr",
          "text": [
            "100%|██████████| 4.54k/4.54k [00:00<00:00, 5.73MB/s]\n"
          ]
        },
        {
          "output_type": "stream",
          "name": "stdout",
          "text": [
            "Extracting data/MNIST/raw/t10k-labels-idx1-ubyte.gz to data/MNIST/raw\n",
            "\n",
            "Number of training samples: 60000\n",
            "Number of testing samples: 10000\n"
          ]
        }
      ],
      "source": [
        "database = MNIST(root = 'data/', download = True)\n",
        "# TODO\n",
        "# get train and test data - use transforms.ToTensor() to convert images to tensor\n",
        "transform = transforms.ToTensor()\n",
        "train_data = MNIST(root='data/', train=True, download=True, transform=transform)\n",
        "test_data = MNIST(root='data/', train=False, download=True, transform=transform)\n",
        "\n",
        "print(f\"Number of training samples: {len(train_data)}\")\n",
        "print(f\"Number of testing samples: {len(test_data)}\")"
      ]
    },
    {
      "cell_type": "markdown",
      "metadata": {
        "id": "Lbj331q7oYaY"
      },
      "source": [
        "Show the image and label of one instance from the train data."
      ]
    },
    {
      "cell_type": "code",
      "execution_count": 13,
      "metadata": {
        "id": "aI0R7eKYoYaY",
        "outputId": "97bc2f1d-c2ce-4511-800e-b29072cc54cd",
        "colab": {
          "base_uri": "https://localhost:8080/",
          "height": 428
        }
      },
      "outputs": [
        {
          "output_type": "display_data",
          "data": {
            "text/plain": [
              "<Figure size 640x480 with 1 Axes>"
            ],
            "image/png": "[encoded data removed]"
          },
          "metadata": {}
        }
      ],
      "source": [
        "# TODO\n",
        "image, label = train_data[0]\n",
        "plt.imshow(image.squeeze(), cmap='gray')\n",
        "plt.title(f\"Label: {label}\")\n",
        "plt.axis('off')\n",
        "plt.show()"
      ]
    },
    {
      "cell_type": "code",
      "execution_count": 14,
      "metadata": {
        "id": "BkukZfuMoYaZ",
        "outputId": "a509a2ec-451f-4673-cb21-d39576d5cd1f",
        "colab": {
          "base_uri": "https://localhost:8080/"
        }
      },
      "outputs": [
        {
          "output_type": "execute_result",
          "data": {
            "text/plain": [
              "tensor([[0.0000, 0.0000, 0.0000, 0.0000, 0.0000, 0.0000, 0.0000, 0.0000, 0.0000,\n",
              "         0.0000, 0.0000, 0.0000, 0.0000, 0.0000, 0.0000, 0.0000, 0.0000, 0.0000,\n",
              "         0.0000, 0.0000, 0.0000, 0.0000, 0.0000, 0.0000, 0.0000, 0.0000, 0.0000,\n",
              "         0.0000],\n",
              "        [0.0000, 0.0000, 0.0000, 0.0000, 0.0000, 0.0000, 0.0000, 0.0000, 0.0000,\n",
              "         0.0000, 0.0000, 0.0000, 0.0000, 0.0000, 0.0000, 0.0000, 0.0000, 0.0000,\n",
              "         0.0000, 0.0000, 0.0000, 0.0000, 0.0000, 0.0000, 0.0000, 0.0000, 0.0000,\n",
              "         0.0000],\n",
              "        [0.0000, 0.0000, 0.0000, 0.0000, 0.0000, 0.0000, 0.0000, 0.0000, 0.0000,\n",
              "         0.0000, 0.0000, 0.0000, 0.0000, 0.0000, 0.0000, 0.0000, 0.0000, 0.0000,\n",
              "         0.0000, 0.0000, 0.0000, 0.0000, 0.0000, 0.0000, 0.0000, 0.0000, 0.0000,\n",
              "         0.0000],\n",
              "        [0.0000, 0.0000, 0.0000, 0.0000, 0.0000, 0.0000, 0.0000, 0.0000, 0.0000,\n",
              "         0.0000, 0.0000, 0.0000, 0.0000, 0.0000, 0.0000, 0.0000, 0.0000, 0.0000,\n",
              "         0.0000, 0.0000, 0.0000, 0.0000, 0.0000, 0.0000, 0.0000, 0.0000, 0.0000,\n",
              "         0.0000],\n",
              "        [0.0000, 0.0000, 0.0000, 0.0000, 0.0000, 0.0000, 0.0000, 0.0000, 0.0000,\n",
              "         0.0000, 0.0000, 0.0000, 0.0000, 0.0000, 0.0000, 0.0000, 0.0000, 0.0000,\n",
              "         0.0000, 0.0000, 0.0000, 0.0000, 0.0000, 0.0000, 0.0000, 0.0000, 0.0000,\n",
              "         0.0000],\n",
              "        [0.0000, 0.0000, 0.0000, 0.0000, 0.0000, 0.0000, 0.0000, 0.0000, 0.0000,\n",
              "         0.0000, 0.0000, 0.0000, 0.0118, 0.0706, 0.0706, 0.0706, 0.4941, 0.5333,\n",
              "         0.6863, 0.1020, 0.6510, 1.0000, 0.9686, 0.4980, 0.0000, 0.0000, 0.0000,\n",
              "         0.0000],\n",
              "        [0.0000, 0.0000, 0.0000, 0.0000, 0.0000, 0.0000, 0.0000, 0.0000, 0.1176,\n",
              "         0.1412, 0.3686, 0.6039, 0.6667, 0.9922, 0.9922, 0.9922, 0.9922, 0.9922,\n",
              "         0.8824, 0.6745, 0.9922, 0.9490, 0.7647, 0.2510, 0.0000, 0.0000, 0.0000,\n",
              "         0.0000],\n",
              "        [0.0000, 0.0000, 0.0000, 0.0000, 0.0000, 0.0000, 0.0000, 0.1922, 0.9333,\n",
              "         0.9922, 0.9922, 0.9922, 0.9922, 0.9922, 0.9922, 0.9922, 0.9922, 0.9843,\n",
              "         0.3647, 0.3216, 0.3216, 0.2196, 0.1529, 0.0000, 0.0000, 0.0000, 0.0000,\n",
              "         0.0000],\n",
              "        [0.0000, 0.0000, 0.0000, 0.0000, 0.0000, 0.0000, 0.0000, 0.0706, 0.8588,\n",
              "         0.9922, 0.9922, 0.9922, 0.9922, 0.9922, 0.7765, 0.7137, 0.9686, 0.9451,\n",
              "         0.0000, 0.0000, 0.0000, 0.0000, 0.0000, 0.0000, 0.0000, 0.0000, 0.0000,\n",
              "         0.0000],\n",
              "        [0.0000, 0.0000, 0.0000, 0.0000, 0.0000, 0.0000, 0.0000, 0.0000, 0.3137,\n",
              "         0.6118, 0.4196, 0.9922, 0.9922, 0.8039, 0.0431, 0.0000, 0.1686, 0.6039,\n",
              "         0.0000, 0.0000, 0.0000, 0.0000, 0.0000, 0.0000, 0.0000, 0.0000, 0.0000,\n",
              "         0.0000],\n",
              "        [0.0000, 0.0000, 0.0000, 0.0000, 0.0000, 0.0000, 0.0000, 0.0000, 0.0000,\n",
              "         0.0549, 0.0039, 0.6039, 0.9922, 0.3529, 0.0000, 0.0000, 0.0000, 0.0000,\n",
              "         0.0000, 0.0000, 0.0000, 0.0000, 0.0000, 0.0000, 0.0000, 0.0000, 0.0000,\n",
              "         0.0000],\n",
              "        [0.0000, 0.0000, 0.0000, 0.0000, 0.0000, 0.0000, 0.0000, 0.0000, 0.0000,\n",
              "         0.0000, 0.0000, 0.5451, 0.9922, 0.7451, 0.0078, 0.0000, 0.0000, 0.0000,\n",
              "         0.0000, 0.0000, 0.0000, 0.0000, 0.0000, 0.0000, 0.0000, 0.0000, 0.0000,\n",
              "         0.0000],\n",
              "        [0.0000, 0.0000, 0.0000, 0.0000, 0.0000, 0.0000, 0.0000, 0.0000, 0.0000,\n",
              "         0.0000, 0.0000, 0.0431, 0.7451, 0.9922, 0.2745, 0.0000, 0.0000, 0.0000,\n",
              "         0.0000, 0.0000, 0.0000, 0.0000, 0.0000, 0.0000, 0.0000, 0.0000, 0.0000,\n",
              "         0.0000],\n",
              "        [0.0000, 0.0000, 0.0000, 0.0000, 0.0000, 0.0000, 0.0000, 0.0000, 0.0000,\n",
              "         0.0000, 0.0000, 0.0000, 0.1373, 0.9451, 0.8824, 0.6275, 0.4235, 0.0039,\n",
              "         0.0000, 0.0000, 0.0000, 0.0000, 0.0000, 0.0000, 0.0000, 0.0000, 0.0000,\n",
              "         0.0000],\n",
              "        [0.0000, 0.0000, 0.0000, 0.0000, 0.0000, 0.0000, 0.0000, 0.0000, 0.0000,\n",
              "         0.0000, 0.0000, 0.0000, 0.0000, 0.3176, 0.9412, 0.9922, 0.9922, 0.4667,\n",
              "         0.0980, 0.0000, 0.0000, 0.0000, 0.0000, 0.0000, 0.0000, 0.0000, 0.0000,\n",
              "         0.0000],\n",
              "        [0.0000, 0.0000, 0.0000, 0.0000, 0.0000, 0.0000, 0.0000, 0.0000, 0.0000,\n",
              "         0.0000, 0.0000, 0.0000, 0.0000, 0.0000, 0.1765, 0.7294, 0.9922, 0.9922,\n",
              "         0.5882, 0.1059, 0.0000, 0.0000, 0.0000, 0.0000, 0.0000, 0.0000, 0.0000,\n",
              "         0.0000],\n",
              "        [0.0000, 0.0000, 0.0000, 0.0000, 0.0000, 0.0000, 0.0000, 0.0000, 0.0000,\n",
              "         0.0000, 0.0000, 0.0000, 0.0000, 0.0000, 0.0000, 0.0627, 0.3647, 0.9882,\n",
              "         0.9922, 0.7333, 0.0000, 0.0000, 0.0000, 0.0000, 0.0000, 0.0000, 0.0000,\n",
              "         0.0000],\n",
              "        [0.0000, 0.0000, 0.0000, 0.0000, 0.0000, 0.0000, 0.0000, 0.0000, 0.0000,\n",
              "         0.0000, 0.0000, 0.0000, 0.0000, 0.0000, 0.0000, 0.0000, 0.0000, 0.9765,\n",
              "         0.9922, 0.9765, 0.2510, 0.0000, 0.0000, 0.0000, 0.0000, 0.0000, 0.0000,\n",
              "         0.0000],\n",
              "        [0.0000, 0.0000, 0.0000, 0.0000, 0.0000, 0.0000, 0.0000, 0.0000, 0.0000,\n",
              "         0.0000, 0.0000, 0.0000, 0.0000, 0.0000, 0.1804, 0.5098, 0.7176, 0.9922,\n",
              "         0.9922, 0.8118, 0.0078, 0.0000, 0.0000, 0.0000, 0.0000, 0.0000, 0.0000,\n",
              "         0.0000],\n",
              "        [0.0000, 0.0000, 0.0000, 0.0000, 0.0000, 0.0000, 0.0000, 0.0000, 0.0000,\n",
              "         0.0000, 0.0000, 0.0000, 0.1529, 0.5804, 0.8980, 0.9922, 0.9922, 0.9922,\n",
              "         0.9804, 0.7137, 0.0000, 0.0000, 0.0000, 0.0000, 0.0000, 0.0000, 0.0000,\n",
              "         0.0000],\n",
              "        [0.0000, 0.0000, 0.0000, 0.0000, 0.0000, 0.0000, 0.0000, 0.0000, 0.0000,\n",
              "         0.0000, 0.0941, 0.4471, 0.8667, 0.9922, 0.9922, 0.9922, 0.9922, 0.7882,\n",
              "         0.3059, 0.0000, 0.0000, 0.0000, 0.0000, 0.0000, 0.0000, 0.0000, 0.0000,\n",
              "         0.0000],\n",
              "        [0.0000, 0.0000, 0.0000, 0.0000, 0.0000, 0.0000, 0.0000, 0.0000, 0.0902,\n",
              "         0.2588, 0.8353, 0.9922, 0.9922, 0.9922, 0.9922, 0.7765, 0.3176, 0.0078,\n",
              "         0.0000, 0.0000, 0.0000, 0.0000, 0.0000, 0.0000, 0.0000, 0.0000, 0.0000,\n",
              "         0.0000],\n",
              "        [0.0000, 0.0000, 0.0000, 0.0000, 0.0000, 0.0000, 0.0706, 0.6706, 0.8588,\n",
              "         0.9922, 0.9922, 0.9922, 0.9922, 0.7647, 0.3137, 0.0353, 0.0000, 0.0000,\n",
              "         0.0000, 0.0000, 0.0000, 0.0000, 0.0000, 0.0000, 0.0000, 0.0000, 0.0000,\n",
              "         0.0000],\n",
              "        [0.0000, 0.0000, 0.0000, 0.0000, 0.2157, 0.6745, 0.8863, 0.9922, 0.9922,\n",
              "         0.9922, 0.9922, 0.9569, 0.5216, 0.0431, 0.0000, 0.0000, 0.0000, 0.0000,\n",
              "         0.0000, 0.0000, 0.0000, 0.0000, 0.0000, 0.0000, 0.0000, 0.0000, 0.0000,\n",
              "         0.0000],\n",
              "        [0.0000, 0.0000, 0.0000, 0.0000, 0.5333, 0.9922, 0.9922, 0.9922, 0.8314,\n",
              "         0.5294, 0.5176, 0.0627, 0.0000, 0.0000, 0.0000, 0.0000, 0.0000, 0.0000,\n",
              "         0.0000, 0.0000, 0.0000, 0.0000, 0.0000, 0.0000, 0.0000, 0.0000, 0.0000,\n",
              "         0.0000],\n",
              "        [0.0000, 0.0000, 0.0000, 0.0000, 0.0000, 0.0000, 0.0000, 0.0000, 0.0000,\n",
              "         0.0000, 0.0000, 0.0000, 0.0000, 0.0000, 0.0000, 0.0000, 0.0000, 0.0000,\n",
              "         0.0000, 0.0000, 0.0000, 0.0000, 0.0000, 0.0000, 0.0000, 0.0000, 0.0000,\n",
              "         0.0000],\n",
              "        [0.0000, 0.0000, 0.0000, 0.0000, 0.0000, 0.0000, 0.0000, 0.0000, 0.0000,\n",
              "         0.0000, 0.0000, 0.0000, 0.0000, 0.0000, 0.0000, 0.0000, 0.0000, 0.0000,\n",
              "         0.0000, 0.0000, 0.0000, 0.0000, 0.0000, 0.0000, 0.0000, 0.0000, 0.0000,\n",
              "         0.0000],\n",
              "        [0.0000, 0.0000, 0.0000, 0.0000, 0.0000, 0.0000, 0.0000, 0.0000, 0.0000,\n",
              "         0.0000, 0.0000, 0.0000, 0.0000, 0.0000, 0.0000, 0.0000, 0.0000, 0.0000,\n",
              "         0.0000, 0.0000, 0.0000, 0.0000, 0.0000, 0.0000, 0.0000, 0.0000, 0.0000,\n",
              "         0.0000]])"
            ]
          },
          "metadata": {},
          "execution_count": 14
        }
      ],
      "source": [
        "# TODO\n",
        "# show one image tensor\n",
        "image.squeeze()"
      ]
    },
    {
      "cell_type": "markdown",
      "metadata": {
        "id": "lc5SFOvyoYaZ"
      },
      "source": [
        "### Write a generate custom dataset function\n",
        "+ For each data in the database convert, use one-hot encoding from pytorch to encode your label to a vector. This is necessary for computing the amount of loss.\n",
        "+ It is common to use batches of data to train our model simultaneously on a batch. The length of a batch at most is `BATCH_SIZE`.\n",
        "    - Note: you can also train your model on each data (one by one) but the training part will take too much time.\n",
        "+ Return batches of data."
      ]
    },
    {
      "cell_type": "code",
      "execution_count": 15,
      "metadata": {
        "id": "sl6usOyvoYaZ"
      },
      "outputs": [],
      "source": [
        "HIDDEN_DIM = 15\n",
        "INPUT_DIM = 28\n",
        "NUM_CLASSES = 10\n",
        "BATCH_SIZE = 128\n",
        "EPOCHS = 30"
      ]
    },
    {
      "cell_type": "code",
      "execution_count": 25,
      "metadata": {
        "id": "P3pkUJkZoYaZ"
      },
      "outputs": [],
      "source": [
        "class CustomDataset(Dataset):\n",
        "    def __init__(self, data, transform=None, batch_size=128):\n",
        "        self.data = data\n",
        "        self.transform = transform\n",
        "        self.batch_size = batch_size\n",
        "\n",
        "    def __len__(self):\n",
        "        return len(self.data)\n",
        "\n",
        "    def __getitem__(self, idx):\n",
        "        # Get the image tensor and label\n",
        "        image_tensor, label = self.data[idx]\n",
        "\n",
        "        # Apply transformation only if it's needed (i.e., if it's not already a tensor)\n",
        "        if self.transform is not None and not isinstance(image_tensor, torch.Tensor):\n",
        "            image_tensor = self.transform(image_tensor)\n",
        "\n",
        "        # One-hot encode the label\n",
        "        encoded_label = F.one_hot(torch.tensor(label), num_classes=NUM_CLASSES).float()\n",
        "\n",
        "        return image_tensor, encoded_label\n",
        "\n",
        "def create_dataloader(batch_size=128):\n",
        "    transform = transforms.Compose([transforms.ToTensor()])\n",
        "    train_data = MNIST(root='data', download=True, train=True, transform=transform)\n",
        "    train_dataset = CustomDataset(train_data, transform=transform, batch_size=batch_size)\n",
        "\n",
        "    train_loader = DataLoader(train_dataset, batch_size=batch_size, shuffle=True, num_workers=4)\n",
        "\n",
        "    return train_loader"
      ]
    },
    {
      "cell_type": "markdown",
      "metadata": {
        "id": "EUgc29hVoYaZ"
      },
      "source": [
        "### Training loop\n",
        "write your training loop.\n",
        "+ For loss function: use `CrossEntropyLoss` function\n",
        "+ Use adam optimizer\n",
        "+ To optimize your training process, you can use `optim.lr_schduler`. (Why this will improve the training process?)\n",
        "    - `your answer:`\n",
        "Using a learning rate scheduler like StepLR helps improve training by adjusting the learning rate over time. Initially, a higher learning rate allows the model to converge faster, while a lower learning rate later in the training prevents overshooting and allows for more precise weight adjustments. This combination speeds up the early stages of learning and stabilizes the process as the model approaches optimal performance.\n",
        "+ Note: Also, in each time step give one row of image tensor to the model because your model is sequential (you also can use each column)."
      ]
    },
    {
      "cell_type": "code",
      "execution_count": 26,
      "metadata": {
        "id": "RzXcg_anoYaZ",
        "outputId": "1034398d-cde9-4e49-cf9d-95d9562002f1",
        "colab": {
          "base_uri": "https://localhost:8080/"
        }
      },
      "outputs": [
        {
          "output_type": "stream",
          "name": "stdout",
          "text": [
            "Epoch 1/30, Loss: 1.7799\n",
            "Epoch 2/30, Loss: 0.8518\n",
            "Epoch 3/30, Loss: 0.5356\n",
            "Epoch 4/30, Loss: 0.4076\n",
            "Epoch 5/30, Loss: 0.3417\n",
            "Epoch 6/30, Loss: 0.3043\n",
            "Epoch 7/30, Loss: 0.2774\n",
            "Epoch 8/30, Loss: 0.2577\n",
            "Epoch 9/30, Loss: 0.2424\n",
            "Epoch 10/30, Loss: 0.2286\n",
            "Epoch 11/30, Loss: 0.2144\n",
            "Epoch 12/30, Loss: 0.2126\n",
            "Epoch 13/30, Loss: 0.2113\n",
            "Epoch 14/30, Loss: 0.2101\n",
            "Epoch 15/30, Loss: 0.2089\n",
            "Epoch 16/30, Loss: 0.2077\n",
            "Epoch 17/30, Loss: 0.2065\n",
            "Epoch 18/30, Loss: 0.2053\n",
            "Epoch 19/30, Loss: 0.2044\n",
            "Epoch 20/30, Loss: 0.2032\n",
            "Epoch 21/30, Loss: 0.2015\n",
            "Epoch 22/30, Loss: 0.2014\n",
            "Epoch 23/30, Loss: 0.2013\n",
            "Epoch 24/30, Loss: 0.2011\n",
            "Epoch 25/30, Loss: 0.2011\n",
            "Epoch 26/30, Loss: 0.2009\n",
            "Epoch 27/30, Loss: 0.2008\n",
            "Epoch 28/30, Loss: 0.2007\n",
            "Epoch 29/30, Loss: 0.2006\n",
            "Epoch 30/30, Loss: 0.2005\n"
          ]
        }
      ],
      "source": [
        "# TODO\n",
        "from torch.optim import lr_scheduler\n",
        "# Create batches\n",
        "train_loader = create_dataloader(batch_size=BATCH_SIZE)\n",
        "# Initialize model, loss function, and optimizer\n",
        "model = GRU_cell(INPUT_DIM, HIDDEN_DIM, NUM_CLASSES)\n",
        "criterion = nn.CrossEntropyLoss()\n",
        "optimizer = optim.Adam(model.parameters(), lr=0.001)\n",
        "\n",
        "# Check if GPU is available and move model to GPU if possible\n",
        "device = torch.device(\"cuda\" if torch.cuda.is_available() else \"cpu\")\n",
        "model = model.to(device)\n",
        "\n",
        "# Use scheduler to set learning rate\n",
        "scheduler = lr_scheduler.StepLR(optimizer, step_size=10, gamma=0.1)\n",
        "\n",
        "# Training loop\n",
        "for epoch in range(EPOCHS):\n",
        "    model.train()\n",
        "    total_loss = 0\n",
        "\n",
        "    for x_batch, y_batch in train_loader:\n",
        "        x_batch, y_batch = x_batch.to(device), y_batch.to(device)\n",
        "        x_batch = x_batch.squeeze(1).permute(0, 2, 1)\n",
        "\n",
        "        h = torch.zeros(x_batch.size(0), HIDDEN_DIM, device=device)\n",
        "\n",
        "        for t in range(x_batch.size(1)):\n",
        "            x_t = x_batch[:, t, :]\n",
        "            h = model(x_t, h)\n",
        "\n",
        "        _, outputs = model(x_t, h, end=True)\n",
        "        loss = criterion(outputs, y_batch)\n",
        "\n",
        "        optimizer.zero_grad()\n",
        "        loss.backward()\n",
        "        optimizer.step()\n",
        "\n",
        "        total_loss += loss.item()\n",
        "\n",
        "    scheduler.step()\n",
        "\n",
        "    print(f\"Epoch {epoch + 1}/{EPOCHS}, Loss: {total_loss / len(train_loader):.4f}\")"
      ]
    },
    {
      "cell_type": "markdown",
      "metadata": {
        "id": "OMJCAHapoYaa"
      },
      "source": [
        "### Test your model on Test data\n",
        "Use the test data to evaluate your model.\n",
        "+ Print the accuracy of your model (should be greater than $94\\%$).\n",
        "+ Show some predictions with actual value from the test data."
      ]
    },
    {
      "cell_type": "code",
      "execution_count": 32,
      "metadata": {
        "id": "90afDX1RoYaa",
        "outputId": "b3ebbb6b-f0e9-4b9c-b681-536458c80744",
        "colab": {
          "base_uri": "https://localhost:8080/"
        }
      },
      "outputs": [
        {
          "output_type": "stream",
          "name": "stdout",
          "text": [
            "Accuracy: 22.35%\n"
          ]
        }
      ],
      "source": [
        "model.eval()\n",
        "correct = 0\n",
        "total = 0\n",
        "dataset = CustomDataset(test_data)\n",
        "\n",
        "with torch.no_grad():\n",
        "    for x, y in dataset:\n",
        "        x, y = x.to(device), y.to(device)\n",
        "        h = torch.zeros(1, HIDDEN_DIM).to(device)\n",
        "\n",
        "        for t in range(x.shape[1]):\n",
        "            input_row = x[:, t]\n",
        "            h = model(input_row, h)\n",
        "\n",
        "        output = model.output(h)\n",
        "        _, predicted = torch.max(output.data, 1)\n",
        "\n",
        "        total += y.size(0)\n",
        "        correct += (predicted == y).sum().item()\n",
        "\n",
        "accuracy = 100 * correct / total\n",
        "print(f'Accuracy: {accuracy:.2f}%')"
      ]
    },
    {
      "cell_type": "code",
      "execution_count": 33,
      "metadata": {
        "id": "NNIaCb4FoYaa",
        "colab": {
          "base_uri": "https://localhost:8080/",
          "height": 663
        },
        "outputId": "781120c0-2dff-4604-f330-e4158022a38f"
      },
      "outputs": [
        {
          "output_type": "display_data",
          "data": {
            "text/plain": [
              "<Figure size 1500x700 with 50 Axes>"
            ],
            "image/png": "[encoded data removed]"
          },
          "metadata": {}
        }
      ],
      "source": [
        "# show images of 50 predictions with actual values\n",
        "import matplotlib.pyplot as plt\n",
        "\n",
        "model.eval()\n",
        "predictions = []\n",
        "labels = []\n",
        "images = []\n",
        "dataset = CustomDataset(test_data)\n",
        "\n",
        "with torch.no_grad():\n",
        "    for x, y in dataset:\n",
        "        x, y = x.to(device), y.to(device)\n",
        "        h = torch.zeros(1, HIDDEN_DIM).to(device)\n",
        "\n",
        "        for t in range(x.shape[1]):\n",
        "            input_row = x[:, t]\n",
        "            h = model(input_row, h)\n",
        "\n",
        "        output = model.output(h)\n",
        "        _, predicted = torch.max(output.data, 1)\n",
        "\n",
        "        predictions.append(predicted.cpu())\n",
        "        labels.append(y.cpu())\n",
        "        images.append(x.cpu())\n",
        "\n",
        "        if len(predictions) >= 50:\n",
        "            break\n",
        "\n",
        "# Flatten the lists\n",
        "predictions = torch.cat(predictions)\n",
        "labels = torch.cat(labels)\n",
        "images = torch.cat(images)\n",
        "\n",
        "# Plot the images and their corresponding actual and predicted values\n",
        "fig, axes = plt.subplots(5, 10, figsize=(15, 7))\n",
        "axes = axes.ravel()\n",
        "\n",
        "for i in range(50):\n",
        "    ax = axes[i]\n",
        "    ax.imshow(images[i].view(28, 28), cmap=\"gray\")\n",
        "    ax.set_title(f\"Pred: {predictions[i].item()}, Actual: {labels[i].item()}\")\n",
        "    ax.axis(\"off\")\n",
        "\n",
        "plt.tight_layout()\n",
        "plt.show()"
      ]
    },
    {
      "cell_type": "code",
      "source": [],
      "metadata": {
        "id": "O9MINIPZQwRB"
      },
      "execution_count": null,
      "outputs": []
    }
  ],
  "metadata": {
    "kernelspec": {
      "display_name": "Python 3",
      "name": "python3"
    },
    "language_info": {
      "codemirror_mode": {
        "name": "ipython",
        "version": 3
      },
      "file_extension": ".py",
      "mimetype": "text/x-python",
      "name": "python",
      "nbconvert_exporter": "python",
      "pygments_lexer": "ipython3",
      "version": "3.9.18"
    },
    "colab": {
      "provenance": [],
      "gpuType": "T4"
    },
    "accelerator": "GPU"
  },
  "nbformat": 4,
  "nbformat_minor": 0
}